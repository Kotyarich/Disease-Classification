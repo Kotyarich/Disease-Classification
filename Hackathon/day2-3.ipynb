{
 "cells": [
  {
   "cell_type": "code",
   "execution_count": 121,
   "metadata": {},
   "outputs": [],
   "source": [
    "# data analysis and wrangling\n",
    "import pandas as pd\n",
    "import numpy as np\n",
    "import random as rnd\n",
    "from sklearn.linear_model import LogisticRegression, Perceptron, SGDClassifier\n",
    "from sklearn.svm import SVC\n",
    "from sklearn.neighbors import KNeighborsClassifier\n",
    "from sklearn.naive_bayes import GaussianNB\n",
    "from sklearn.tree import DecisionTreeClassifier\n",
    "from sklearn.ensemble import RandomForestClassifier\n",
    "import pickle\n",
    "import flask\n",
    "import os\n",
    "\n",
    "# visualization\n",
    "import seaborn as sns\n",
    "import matplotlib.pyplot as plt\n",
    "%matplotlib inline"
   ]
  },
  {
   "cell_type": "code",
   "execution_count": 62,
   "metadata": {},
   "outputs": [],
   "source": [
    "train_df = pd.read_csv('train_longevity.csv')\n",
    "test_df = pd.read_csv('test_longevity.csv')\n",
    "combine = [train_df, test_df]"
   ]
  },
  {
   "cell_type": "code",
   "execution_count": 11,
   "metadata": {},
   "outputs": [
    {
     "name": "stdout",
     "output_type": "stream",
     "text": [
      "train =  ['Id' 'Longevity' 'Education' 'Sex' 'Age' 'Pet' 'Children' 'Region'\n",
      " 'Activity' 'MedExam' 'Sport']\n",
      "test =  ['Id' 'Education' 'Sex' 'Age' 'Pet' 'Children' 'Region' 'Activity'\n",
      " 'MedExam' 'Sport' 'Longevity']\n"
     ]
    }
   ],
   "source": [
    "# Вывод названий столбцов в обучающем датасете\n",
    "print(\"train = \", train_df.columns.values)\n",
    "print(\"test = \", test_df.columns.values)"
   ]
  },
  {
   "cell_type": "code",
   "execution_count": 12,
   "metadata": {},
   "outputs": [],
   "source": [
    "# Удалим из таблиц MedExam, Region, Id\n",
    "train_df = train_df.drop(columns=['Id', 'Region', 'MedExam'])\n",
    "test_df = test_df.drop(columns=['Region', 'MedExam', 'Longevity'])"
   ]
  },
  {
   "cell_type": "code",
   "execution_count": 13,
   "metadata": {},
   "outputs": [
    {
     "name": "stdout",
     "output_type": "stream",
     "text": [
      "train =  ['Longevity' 'Education' 'Sex' 'Age' 'Pet' 'Children' 'Activity' 'Sport']\n",
      "test =  ['Id' 'Education' 'Sex' 'Age' 'Pet' 'Children' 'Activity' 'Sport']\n"
     ]
    }
   ],
   "source": [
    "# Вывод названий столбцов в обучающем датасете\n",
    "print(\"train = \", train_df.columns.values)\n",
    "print(\"test = \", test_df.columns.values)"
   ]
  },
  {
   "cell_type": "code",
   "execution_count": 14,
   "metadata": {},
   "outputs": [
    {
     "name": "stdout",
     "output_type": "stream",
     "text": [
      "NaN       177\n",
      "73        162\n",
      "74        154\n",
      "72         93\n",
      "75         90\n",
      "76         63\n",
      "71         37\n",
      "77         30\n",
      "70         24\n",
      "78         19\n",
      "79          6\n",
      "80          1\n",
      "#ЗНАЧ!      1\n",
      "Name: Age, dtype: int64\n",
      "--------------------------------------\n",
      "73        117\n",
      "NaN        93\n",
      "74         66\n",
      "75         46\n",
      "72         41\n",
      "76         36\n",
      "77         17\n",
      "71         13\n",
      "78         13\n",
      "70          6\n",
      "#ЗНАЧ!      3\n",
      "80          1\n",
      "Name: Age, dtype: int64\n"
     ]
    }
   ],
   "source": [
    "# Выведем Age \n",
    "print (train_df['Age'].value_counts(dropna=False))\n",
    "print (\"--------------------------------------\")\n",
    "print (test_df['Age'].value_counts(dropna=False))"
   ]
  },
  {
   "cell_type": "code",
   "execution_count": 15,
   "metadata": {},
   "outputs": [
    {
     "name": "stdout",
     "output_type": "stream",
     "text": [
      "0      73\n",
      "1      75\n",
      "2      73\n",
      "3      74\n",
      "4      74\n",
      "       ..\n",
      "852    71\n",
      "853    72\n",
      "854    76\n",
      "855    72\n",
      "856    76\n",
      "Name: Age, Length: 857, dtype: int32\n",
      "----------------------------\n",
      "0      73\n",
      "1      75\n",
      "2      73\n",
      "3      74\n",
      "4      74\n",
      "       ..\n",
      "447    74\n",
      "448    71\n",
      "449    77\n",
      "450    75\n",
      "451    56\n",
      "Name: Age, Length: 452, dtype: int32\n"
     ]
    }
   ],
   "source": [
    "# Удалим некорректные значения ('#ЗНАЧ!')\n",
    "idmax = train_df['Age'].value_counts().mean()\n",
    "\n",
    "train_df['Age'].fillna(idmax, inplace=True)\n",
    "test_df['Age'].fillna(idmax, inplace=True)\n",
    "\n",
    "train_df['Age'] = train_df['Age'].map(lambda v: idmax if (v == '#ЗНАЧ!') else v).astype(int)\n",
    "test_df['Age'] = train_df['Age'].map(lambda v: idmax if (v == '#ЗНАЧ!') else v).astype(int)\n",
    "\n",
    "\n",
    "print(train_df['Age'])\n",
    "print('----------------------------')\n",
    "print(test_df['Age'])"
   ]
  },
  {
   "cell_type": "code",
   "execution_count": 16,
   "metadata": {},
   "outputs": [
    {
     "name": "stdout",
     "output_type": "stream",
     "text": [
      "NaN    621\n",
      "+      161\n",
      "-       75\n",
      "Name: Sport, dtype: int64\n"
     ]
    }
   ],
   "source": [
    "# Провека данных Sport\n",
    "print (train_df['Sport'].value_counts(dropna=False))"
   ]
  },
  {
   "cell_type": "code",
   "execution_count": 17,
   "metadata": {},
   "outputs": [],
   "source": [
    "def check(v):\n",
    "    if v == '+':\n",
    "        return 2;\n",
    "    else:\n",
    "        return 1;\n",
    "    \n",
    "    \n",
    "#  train_df['Sport'].fillna(1, inplace=True)\n",
    "# test_df['Sport'].fillna(1, inplace=True)\n",
    "\n",
    "train_df['Sport'] = train_df['Sport'].map(lambda v: check(v)).astype(int)\n",
    "test_df['Sport'] = test_df['Sport'].map(lambda v: check(v)).astype(int)"
   ]
  },
  {
   "cell_type": "code",
   "execution_count": 18,
   "metadata": {},
   "outputs": [
    {
     "name": "stdout",
     "output_type": "stream",
     "text": [
      "1    696\n",
      "2    161\n",
      "Name: Sport, dtype: int64\n",
      "1    343\n",
      "2    109\n",
      "Name: Sport, dtype: int64\n"
     ]
    }
   ],
   "source": [
    "print (train_df['Sport'].value_counts(dropna=False)) # Дополнили \n",
    "print (test_df['Sport'].value_counts(dropna=False)) # Дополнили"
   ]
  },
  {
   "cell_type": "code",
   "execution_count": 19,
   "metadata": {},
   "outputs": [],
   "source": [
    "# Дополнили в Sport \n",
    "idmax = train_df['Sport'].value_counts().idxmax()\n",
    "train_df['Sport'] = train_df['Sport'].map(lambda v: idmax if (v != 1 and v != 2) else v).astype(int)\n",
    "test_df['Sport'] = test_df['Sport'].map(lambda v: idmax if (v != 1 and v != 2) else v).astype(int)"
   ]
  },
  {
   "cell_type": "code",
   "execution_count": 20,
   "metadata": {},
   "outputs": [
    {
     "name": "stdout",
     "output_type": "stream",
     "text": [
      "1    557\n",
      "0    300\n",
      "Name: Sex, dtype: int64\n",
      "1    286\n",
      "0    166\n",
      "Name: Sex, dtype: int64\n"
     ]
    }
   ],
   "source": [
    "train_df['Sex'] = train_df['Sex'].map(lambda v: 0 if v == 'male' else 1).astype(int)\n",
    "test_df['Sex'] = test_df['Sex'].map(lambda v:  0 if v == 'male' else 1).astype(int)\n",
    "\n",
    "print (train_df['Sex'].value_counts(dropna=False)) # Дополнили \n",
    "print (test_df['Sex'].value_counts(dropna=False)) # Дополнили"
   ]
  },
  {
   "cell_type": "code",
   "execution_count": 21,
   "metadata": {},
   "outputs": [],
   "source": [
    " def activity_convert(act):\n",
    "        if 0 < act < 1000:\n",
    "            return 0;\n",
    "        elif 5500 > act >= 1000:\n",
    "            return 1;\n",
    "        else:\n",
    "            return 2;\n",
    "        \n",
    "train_df['Activity'] = train_df['Activity'].map(lambda v: activity_convert(v)).astype(int)\n",
    "test_df['Activity'] = test_df['Activity'].map(lambda v: activity_convert(v)).astype(int)"
   ]
  },
  {
   "cell_type": "code",
   "execution_count": 22,
   "metadata": {},
   "outputs": [],
   "source": [
    "def superFunctionYOU_ALWAYS_WELCOME(age):\n",
    "    if age <= 70:\n",
    "        return 0;\n",
    "    elif 70 < age <= 72:\n",
    "        return 1;\n",
    "    elif 72 < age <= 74:\n",
    "        return 2;\n",
    "    elif 74 < age <= 76:\n",
    "        return 3;\n",
    "    elif 76 < age <= 78:\n",
    "        return 4;\n",
    "    elif 78 < age <= 80:\n",
    "        return 5;\n",
    "    elif 80 < age:\n",
    "        return 6;\n",
    "    \n",
    "criteria = [(superFunctionYOU_ALWAYS_WELCOME(test_df.at[i, 'Age'])) for i in range (test_df['Age'].count())]\n",
    "test_df['Age'] = pd.Series(criteria)\n",
    "criteria = [(superFunctionYOU_ALWAYS_WELCOME(train_df.at[i, 'Age'])) for i in range (train_df['Age'].count())]\n",
    "train_df['Age'] = pd.Series(criteria)"
   ]
  },
  {
   "cell_type": "code",
   "execution_count": 23,
   "metadata": {},
   "outputs": [],
   "source": [
    "# Создадим новые колонки Family \n",
    "family = [(test_df.at[i, 'Children'] + test_df.at[i, 'Pet']) for i in range(test_df['Pet'].count())]\n",
    "# test_df['Family'] = family\n",
    "isalone = [(0 if family[i] == 0 else 1) for i in range(len(family))]\n",
    "test_df['IsAlone'] = isalone\n",
    "status = [(test_df.at[i, 'Education']*test_df.at[i, 'Age']) for i in range(test_df['Age'].count())]\n",
    "test_df['Age*Education'] = pd.Series(status)"
   ]
  },
  {
   "cell_type": "code",
   "execution_count": 24,
   "metadata": {},
   "outputs": [
    {
     "name": "stdout",
     "output_type": "stream",
     "text": [
      "2    174\n",
      "0    108\n",
      "3     75\n",
      "1     70\n",
      "4     23\n",
      "5      2\n",
      "Name: Age, dtype: int64\n",
      "-----------------------------------\n",
      "0     108\n",
      "6     102\n",
      "2      65\n",
      "3      50\n",
      "9      47\n",
      "4      45\n",
      "1      17\n",
      "12     13\n",
      "8       3\n",
      "15      1\n",
      "5       1\n",
      "Name: Age*Education, dtype: int64\n",
      "-----------------------------------\n",
      "0    275\n",
      "1    177\n",
      "Name: IsAlone, dtype: int64\n"
     ]
    }
   ],
   "source": [
    "print (test_df['Age'].value_counts(dropna=False))\n",
    "print('-----------------------------------')\n",
    "print (test_df['Age*Education'].value_counts(dropna=False))\n",
    "print('-----------------------------------')\n",
    "print (test_df['IsAlone'].value_counts(dropna=False))\n",
    "# print('-----------------------------------')\n",
    "# print (test_df['Family'].value_counts(dropna=False))\n"
   ]
  },
  {
   "cell_type": "code",
   "execution_count": 25,
   "metadata": {},
   "outputs": [],
   "source": [
    "family = [(train_df.at[i, 'Children'] + train_df.at[i, 'Pet']) for i in range(train_df['Pet'].count())]\n",
    "# train_df['Family'] = family\n",
    "isalone = [(0 if family[i] == 0 else 1) for i in range(len(family))]\n",
    "train_df['IsAlone'] = isalone\n",
    "status = [(train_df.at[i, 'Education']*train_df.at[i, 'Age']) for i in range(train_df['Age'].count())]\n",
    "train_df['Age*Education'] = pd.Series(status)"
   ]
  },
  {
   "cell_type": "code",
   "execution_count": 26,
   "metadata": {},
   "outputs": [
    {
     "name": "stdout",
     "output_type": "stream",
     "text": [
      "2    316\n",
      "0    202\n",
      "3    153\n",
      "1    130\n",
      "4     49\n",
      "5      7\n",
      "Name: Age, dtype: int64\n",
      "-----------------------------------\n",
      "6     212\n",
      "0     202\n",
      "3     152\n",
      "4     112\n",
      "2      83\n",
      "9      53\n",
      "1      18\n",
      "8      13\n",
      "12      5\n",
      "5       4\n",
      "15      2\n",
      "10      1\n",
      "Name: Age*Education, dtype: int64\n",
      "-----------------------------------\n",
      "0    515\n",
      "1    342\n",
      "Name: IsAlone, dtype: int64\n"
     ]
    }
   ],
   "source": [
    "print (train_df['Age'].value_counts(dropna=False))\n",
    "print('-----------------------------------')\n",
    "print (train_df['Age*Education'].value_counts(dropna=False))\n",
    "print('-----------------------------------')\n",
    "print (train_df['IsAlone'].value_counts(dropna=False))\n",
    "# print('-----------------------------------')\n",
    "# print (train_df['Family'].value_counts(dropna=False))"
   ]
  },
  {
   "cell_type": "code",
   "execution_count": 27,
   "metadata": {},
   "outputs": [],
   "source": [
    "train_df = train_df.drop(columns=['Pet', 'Children'])\n",
    "test_df = test_df.drop(columns=['Pet', 'Children'])"
   ]
  },
  {
   "cell_type": "code",
   "execution_count": 28,
   "metadata": {},
   "outputs": [
    {
     "data": {
      "text/html": [
       "<div>\n",
       "<style scoped>\n",
       "    .dataframe tbody tr th:only-of-type {\n",
       "        vertical-align: middle;\n",
       "    }\n",
       "\n",
       "    .dataframe tbody tr th {\n",
       "        vertical-align: top;\n",
       "    }\n",
       "\n",
       "    .dataframe thead th {\n",
       "        text-align: right;\n",
       "    }\n",
       "</style>\n",
       "<table border=\"1\" class=\"dataframe\">\n",
       "  <thead>\n",
       "    <tr style=\"text-align: right;\">\n",
       "      <th></th>\n",
       "      <th>Longevity</th>\n",
       "      <th>Education</th>\n",
       "      <th>Sex</th>\n",
       "      <th>Age</th>\n",
       "      <th>Activity</th>\n",
       "      <th>Sport</th>\n",
       "      <th>IsAlone</th>\n",
       "      <th>Age*Education</th>\n",
       "    </tr>\n",
       "  </thead>\n",
       "  <tbody>\n",
       "    <tr>\n",
       "      <th>0</th>\n",
       "      <td>0</td>\n",
       "      <td>3</td>\n",
       "      <td>1</td>\n",
       "      <td>2</td>\n",
       "      <td>0</td>\n",
       "      <td>1</td>\n",
       "      <td>1</td>\n",
       "      <td>6</td>\n",
       "    </tr>\n",
       "    <tr>\n",
       "      <th>1</th>\n",
       "      <td>1</td>\n",
       "      <td>1</td>\n",
       "      <td>0</td>\n",
       "      <td>3</td>\n",
       "      <td>2</td>\n",
       "      <td>2</td>\n",
       "      <td>1</td>\n",
       "      <td>3</td>\n",
       "    </tr>\n",
       "    <tr>\n",
       "      <th>2</th>\n",
       "      <td>1</td>\n",
       "      <td>3</td>\n",
       "      <td>0</td>\n",
       "      <td>2</td>\n",
       "      <td>0</td>\n",
       "      <td>1</td>\n",
       "      <td>0</td>\n",
       "      <td>6</td>\n",
       "    </tr>\n",
       "    <tr>\n",
       "      <th>3</th>\n",
       "      <td>1</td>\n",
       "      <td>1</td>\n",
       "      <td>0</td>\n",
       "      <td>2</td>\n",
       "      <td>1</td>\n",
       "      <td>1</td>\n",
       "      <td>1</td>\n",
       "      <td>2</td>\n",
       "    </tr>\n",
       "    <tr>\n",
       "      <th>4</th>\n",
       "      <td>0</td>\n",
       "      <td>3</td>\n",
       "      <td>1</td>\n",
       "      <td>2</td>\n",
       "      <td>0</td>\n",
       "      <td>1</td>\n",
       "      <td>0</td>\n",
       "      <td>6</td>\n",
       "    </tr>\n",
       "  </tbody>\n",
       "</table>\n",
       "</div>"
      ],
      "text/plain": [
       "   Longevity  Education  Sex  Age  Activity  Sport  IsAlone  Age*Education\n",
       "0          0          3    1    2         0      1        1              6\n",
       "1          1          1    0    3         2      2        1              3\n",
       "2          1          3    0    2         0      1        0              6\n",
       "3          1          1    0    2         1      1        1              2\n",
       "4          0          3    1    2         0      1        0              6"
      ]
     },
     "execution_count": 28,
     "metadata": {},
     "output_type": "execute_result"
    }
   ],
   "source": [
    "train_df.head()  "
   ]
  },
  {
   "cell_type": "code",
   "execution_count": 29,
   "metadata": {},
   "outputs": [
    {
     "data": {
      "text/html": [
       "<div>\n",
       "<style scoped>\n",
       "    .dataframe tbody tr th:only-of-type {\n",
       "        vertical-align: middle;\n",
       "    }\n",
       "\n",
       "    .dataframe tbody tr th {\n",
       "        vertical-align: top;\n",
       "    }\n",
       "\n",
       "    .dataframe thead th {\n",
       "        text-align: right;\n",
       "    }\n",
       "</style>\n",
       "<table border=\"1\" class=\"dataframe\">\n",
       "  <thead>\n",
       "    <tr style=\"text-align: right;\">\n",
       "      <th></th>\n",
       "      <th>Id</th>\n",
       "      <th>Education</th>\n",
       "      <th>Sex</th>\n",
       "      <th>Age</th>\n",
       "      <th>Activity</th>\n",
       "      <th>Sport</th>\n",
       "      <th>IsAlone</th>\n",
       "      <th>Age*Education</th>\n",
       "    </tr>\n",
       "  </thead>\n",
       "  <tbody>\n",
       "    <tr>\n",
       "      <th>0</th>\n",
       "      <td>858</td>\n",
       "      <td>1</td>\n",
       "      <td>1</td>\n",
       "      <td>2</td>\n",
       "      <td>1</td>\n",
       "      <td>1</td>\n",
       "      <td>0</td>\n",
       "      <td>2</td>\n",
       "    </tr>\n",
       "    <tr>\n",
       "      <th>1</th>\n",
       "      <td>859</td>\n",
       "      <td>3</td>\n",
       "      <td>0</td>\n",
       "      <td>3</td>\n",
       "      <td>1</td>\n",
       "      <td>2</td>\n",
       "      <td>1</td>\n",
       "      <td>9</td>\n",
       "    </tr>\n",
       "    <tr>\n",
       "      <th>2</th>\n",
       "      <td>860</td>\n",
       "      <td>3</td>\n",
       "      <td>1</td>\n",
       "      <td>2</td>\n",
       "      <td>0</td>\n",
       "      <td>2</td>\n",
       "      <td>0</td>\n",
       "      <td>6</td>\n",
       "    </tr>\n",
       "    <tr>\n",
       "      <th>3</th>\n",
       "      <td>861</td>\n",
       "      <td>3</td>\n",
       "      <td>1</td>\n",
       "      <td>2</td>\n",
       "      <td>1</td>\n",
       "      <td>1</td>\n",
       "      <td>1</td>\n",
       "      <td>6</td>\n",
       "    </tr>\n",
       "    <tr>\n",
       "      <th>4</th>\n",
       "      <td>862</td>\n",
       "      <td>2</td>\n",
       "      <td>1</td>\n",
       "      <td>2</td>\n",
       "      <td>1</td>\n",
       "      <td>1</td>\n",
       "      <td>1</td>\n",
       "      <td>4</td>\n",
       "    </tr>\n",
       "  </tbody>\n",
       "</table>\n",
       "</div>"
      ],
      "text/plain": [
       "    Id  Education  Sex  Age  Activity  Sport  IsAlone  Age*Education\n",
       "0  858          1    1    2         1      1        0              2\n",
       "1  859          3    0    3         1      2        1              9\n",
       "2  860          3    1    2         0      2        0              6\n",
       "3  861          3    1    2         1      1        1              6\n",
       "4  862          2    1    2         1      1        1              4"
      ]
     },
     "execution_count": 29,
     "metadata": {},
     "output_type": "execute_result"
    }
   ],
   "source": [
    "test_df.head()  "
   ]
  },
  {
   "cell_type": "code",
   "execution_count": 34,
   "metadata": {},
   "outputs": [
    {
     "name": "stdout",
     "output_type": "stream",
     "text": [
      "Longevity\n",
      "0    528\n",
      "1    329\n",
      "Name: Longevity, dtype: int64\n",
      "Education\n",
      "3    473\n",
      "1    208\n",
      "2    176\n",
      "Name: Education, dtype: int64\n",
      "Sex\n",
      "1    557\n",
      "0    300\n",
      "Name: Sex, dtype: int64\n",
      "Age\n",
      "2    316\n",
      "0    202\n",
      "3    153\n",
      "1    130\n",
      "4     49\n",
      "5      7\n",
      "Name: Age, dtype: int64\n",
      "Activity\n",
      "1    394\n",
      "0    309\n",
      "2    154\n",
      "Name: Activity, dtype: int64\n",
      "Sport\n",
      "1    696\n",
      "2    161\n",
      "Name: Sport, dtype: int64\n",
      "IsAlone\n",
      "0    515\n",
      "1    342\n",
      "Name: IsAlone, dtype: int64\n",
      "Age*Education\n",
      "6     212\n",
      "0     202\n",
      "3     152\n",
      "4     112\n",
      "2      83\n",
      "9      53\n",
      "1      18\n",
      "8      13\n",
      "12      5\n",
      "5       4\n",
      "15      2\n",
      "10      1\n",
      "Name: Age*Education, dtype: int64\n"
     ]
    }
   ],
   "source": [
    "# DAY 3 \n",
    "feature_names = train_df.columns.tolist()\n",
    "for column in feature_names:\n",
    "    print(column)\n",
    "    print(train_df[column].value_counts(dropna=False))"
   ]
  },
  {
   "cell_type": "code",
   "execution_count": 40,
   "metadata": {},
   "outputs": [
    {
     "data": {
      "text/plain": [
       "79.0"
      ]
     },
     "execution_count": 40,
     "metadata": {},
     "output_type": "execute_result"
    }
   ],
   "source": [
    "logreg = LogisticRegression(solver='liblinear')\n",
    "\n",
    "Y_train = train_df['Longevity']\n",
    "copy_train_df = train_df.drop(columns=['Longevity'])\n",
    "X_train = copy_train_df\n",
    "\n",
    "X_test = test_df.drop(columns=['Id'])\n",
    "\n",
    "logreg.fit(X_train, Y_train)\n",
    "Y_pred = logreg.predict(X_test)\n",
    "acc_log = round(logreg.score(X_train, Y_train) * 100, 2)\n",
    "acc_log"
   ]
  },
  {
   "cell_type": "code",
   "execution_count": 41,
   "metadata": {},
   "outputs": [
    {
     "data": {
      "text/html": [
       "<div>\n",
       "<style scoped>\n",
       "    .dataframe tbody tr th:only-of-type {\n",
       "        vertical-align: middle;\n",
       "    }\n",
       "\n",
       "    .dataframe tbody tr th {\n",
       "        vertical-align: top;\n",
       "    }\n",
       "\n",
       "    .dataframe thead th {\n",
       "        text-align: right;\n",
       "    }\n",
       "</style>\n",
       "<table border=\"1\" class=\"dataframe\">\n",
       "  <thead>\n",
       "    <tr style=\"text-align: right;\">\n",
       "      <th></th>\n",
       "      <th>Feature</th>\n",
       "      <th>Correlation</th>\n",
       "    </tr>\n",
       "  </thead>\n",
       "  <tbody>\n",
       "    <tr>\n",
       "      <th>4</th>\n",
       "      <td>Sport</td>\n",
       "      <td>0.479057</td>\n",
       "    </tr>\n",
       "    <tr>\n",
       "      <th>3</th>\n",
       "      <td>Activity</td>\n",
       "      <td>0.116641</td>\n",
       "    </tr>\n",
       "    <tr>\n",
       "      <th>5</th>\n",
       "      <td>IsAlone</td>\n",
       "      <td>0.049168</td>\n",
       "    </tr>\n",
       "    <tr>\n",
       "      <th>2</th>\n",
       "      <td>Age</td>\n",
       "      <td>-0.014486</td>\n",
       "    </tr>\n",
       "    <tr>\n",
       "      <th>6</th>\n",
       "      <td>Age*Education</td>\n",
       "      <td>-0.079251</td>\n",
       "    </tr>\n",
       "    <tr>\n",
       "      <th>0</th>\n",
       "      <td>Education</td>\n",
       "      <td>-0.696698</td>\n",
       "    </tr>\n",
       "    <tr>\n",
       "      <th>1</th>\n",
       "      <td>Sex</td>\n",
       "      <td>-2.441211</td>\n",
       "    </tr>\n",
       "  </tbody>\n",
       "</table>\n",
       "</div>"
      ],
      "text/plain": [
       "         Feature  Correlation\n",
       "4          Sport     0.479057\n",
       "3       Activity     0.116641\n",
       "5        IsAlone     0.049168\n",
       "2            Age    -0.014486\n",
       "6  Age*Education    -0.079251\n",
       "0      Education    -0.696698\n",
       "1            Sex    -2.441211"
      ]
     },
     "execution_count": 41,
     "metadata": {},
     "output_type": "execute_result"
    }
   ],
   "source": [
    "coeff_df = pd.DataFrame(train_df.columns.delete(0))\n",
    "coeff_df.columns = ['Feature']\n",
    "coeff_df[\"Correlation\"] = pd.Series(logreg.coef_[0])\n",
    "coeff_df.sort_values(by='Correlation', ascending=False)"
   ]
  },
  {
   "cell_type": "code",
   "execution_count": 94,
   "metadata": {},
   "outputs": [
    {
     "data": {
      "text/plain": [
       "78.65"
      ]
     },
     "execution_count": 94,
     "metadata": {},
     "output_type": "execute_result"
    }
   ],
   "source": [
    "svmdata = SVC(kernel=\"linear\")\n",
    "svmdata.fit(X_train, Y_train)\n",
    "Y_pred = svmdata.predict(X_test)\n",
    "acc_svc = round(svmdata.score(X_train, Y_train) * 100, 2)\n",
    "acc_svc"
   ]
  },
  {
   "cell_type": "code",
   "execution_count": 95,
   "metadata": {},
   "outputs": [
    {
     "data": {
      "text/html": [
       "<div>\n",
       "<style scoped>\n",
       "    .dataframe tbody tr th:only-of-type {\n",
       "        vertical-align: middle;\n",
       "    }\n",
       "\n",
       "    .dataframe tbody tr th {\n",
       "        vertical-align: top;\n",
       "    }\n",
       "\n",
       "    .dataframe thead th {\n",
       "        text-align: right;\n",
       "    }\n",
       "</style>\n",
       "<table border=\"1\" class=\"dataframe\">\n",
       "  <thead>\n",
       "    <tr style=\"text-align: right;\">\n",
       "      <th></th>\n",
       "      <th>Feature</th>\n",
       "      <th>Correlation</th>\n",
       "    </tr>\n",
       "  </thead>\n",
       "  <tbody>\n",
       "    <tr>\n",
       "      <th>6</th>\n",
       "      <td>Region</td>\n",
       "      <td>0.000125</td>\n",
       "    </tr>\n",
       "    <tr>\n",
       "      <th>3</th>\n",
       "      <td>Age</td>\n",
       "      <td>0.000024</td>\n",
       "    </tr>\n",
       "    <tr>\n",
       "      <th>5</th>\n",
       "      <td>Children</td>\n",
       "      <td>-0.000007</td>\n",
       "    </tr>\n",
       "    <tr>\n",
       "      <th>4</th>\n",
       "      <td>Pet</td>\n",
       "      <td>-0.000029</td>\n",
       "    </tr>\n",
       "    <tr>\n",
       "      <th>0</th>\n",
       "      <td>Longevity</td>\n",
       "      <td>-0.000081</td>\n",
       "    </tr>\n",
       "    <tr>\n",
       "      <th>2</th>\n",
       "      <td>Sex</td>\n",
       "      <td>-0.000119</td>\n",
       "    </tr>\n",
       "    <tr>\n",
       "      <th>1</th>\n",
       "      <td>Education</td>\n",
       "      <td>-1.999798</td>\n",
       "    </tr>\n",
       "    <tr>\n",
       "      <th>7</th>\n",
       "      <td>Activity</td>\n",
       "      <td>NaN</td>\n",
       "    </tr>\n",
       "    <tr>\n",
       "      <th>8</th>\n",
       "      <td>MedExam</td>\n",
       "      <td>NaN</td>\n",
       "    </tr>\n",
       "    <tr>\n",
       "      <th>9</th>\n",
       "      <td>Sport</td>\n",
       "      <td>NaN</td>\n",
       "    </tr>\n",
       "  </tbody>\n",
       "</table>\n",
       "</div>"
      ],
      "text/plain": [
       "     Feature  Correlation\n",
       "6     Region     0.000125\n",
       "3        Age     0.000024\n",
       "5   Children    -0.000007\n",
       "4        Pet    -0.000029\n",
       "0  Longevity    -0.000081\n",
       "2        Sex    -0.000119\n",
       "1  Education    -1.999798\n",
       "7   Activity          NaN\n",
       "8    MedExam          NaN\n",
       "9      Sport          NaN"
      ]
     },
     "execution_count": 95,
     "metadata": {},
     "output_type": "execute_result"
    }
   ],
   "source": [
    "coeff_df = pd.DataFrame(train_df.columns.delete(0))\n",
    "coeff_df.columns = ['Feature']\n",
    "coeff_df[\"Correlation\"] = pd.Series(svmdata.coef_[0])\n",
    "coeff_df.sort_values(by='Correlation', ascending=False)"
   ]
  },
  {
   "cell_type": "code",
   "execution_count": 96,
   "metadata": {},
   "outputs": [
    {
     "data": {
      "text/plain": [
       "82.26"
      ]
     },
     "execution_count": 96,
     "metadata": {},
     "output_type": "execute_result"
    }
   ],
   "source": [
    "KNC = KNeighborsClassifier()\n",
    "KNC.fit(X_train, Y_train)\n",
    "Y_pred = KNC.predict(X_test)\n",
    "acc_knn = round(KNC.score(X_train, Y_train) * 100, 2)\n",
    "acc_knn"
   ]
  },
  {
   "cell_type": "code",
   "execution_count": 97,
   "metadata": {},
   "outputs": [
    {
     "data": {
      "text/plain": [
       "76.66"
      ]
     },
     "execution_count": 97,
     "metadata": {},
     "output_type": "execute_result"
    }
   ],
   "source": [
    "gb = GaussianNB()\n",
    "gb.fit(X_train, Y_train)\n",
    "Y_pred = gb.predict(X_test)\n",
    "acc_gaussian = round(gb.score(X_train, Y_train) * 100, 2)\n",
    "acc_gaussian"
   ]
  },
  {
   "cell_type": "code",
   "execution_count": 98,
   "metadata": {},
   "outputs": [
    {
     "data": {
      "text/plain": [
       "77.13"
      ]
     },
     "execution_count": 98,
     "metadata": {},
     "output_type": "execute_result"
    }
   ],
   "source": [
    "pc = Perceptron()\n",
    "pc.fit(X_train, Y_train)\n",
    "Y_pred = pc.predict(X_test)\n",
    "acc_perceptron = round(pc.score(X_train, Y_train) * 100, 2)\n",
    "acc_perceptron"
   ]
  },
  {
   "cell_type": "code",
   "execution_count": 99,
   "metadata": {},
   "outputs": [
    {
     "data": {
      "text/plain": [
       "79.23"
      ]
     },
     "execution_count": 99,
     "metadata": {},
     "output_type": "execute_result"
    }
   ],
   "source": [
    "sg = SGDClassifier()\n",
    "sg.fit(X_train, Y_train)\n",
    "Y_pred = sg.predict(X_test)\n",
    "acc_sgd = round(sg.score(X_train, Y_train) * 100, 2)\n",
    "acc_sgd"
   ]
  },
  {
   "cell_type": "code",
   "execution_count": 100,
   "metadata": {},
   "outputs": [
    {
     "data": {
      "text/plain": [
       "84.48"
      ]
     },
     "execution_count": 100,
     "metadata": {},
     "output_type": "execute_result"
    }
   ],
   "source": [
    "tr = DecisionTreeClassifier()\n",
    "tr.fit(X_train, Y_train)\n",
    "Y_pred = tr.predict(X_test)\n",
    "acc_decision_tree = round(tr.score(X_train, Y_train) * 100, 2)\n",
    "acc_decision_tree"
   ]
  },
  {
   "cell_type": "code",
   "execution_count": 104,
   "metadata": {},
   "outputs": [
    {
     "data": {
      "text/plain": [
       "84.48"
      ]
     },
     "execution_count": 104,
     "metadata": {},
     "output_type": "execute_result"
    }
   ],
   "source": [
    "ens = RandomForestClassifier()\n",
    "ens.fit(X_train, Y_train)\n",
    "Y_pred = ens.predict(X_test)\n",
    "acc_random_forest = round(ens.score(X_train, Y_train) * 100, 2)\n",
    "acc_random_forest"
   ]
  },
  {
   "cell_type": "code",
   "execution_count": 105,
   "metadata": {},
   "outputs": [
    {
     "data": {
      "text/html": [
       "<div>\n",
       "<style scoped>\n",
       "    .dataframe tbody tr th:only-of-type {\n",
       "        vertical-align: middle;\n",
       "    }\n",
       "\n",
       "    .dataframe tbody tr th {\n",
       "        vertical-align: top;\n",
       "    }\n",
       "\n",
       "    .dataframe thead th {\n",
       "        text-align: right;\n",
       "    }\n",
       "</style>\n",
       "<table border=\"1\" class=\"dataframe\">\n",
       "  <thead>\n",
       "    <tr style=\"text-align: right;\">\n",
       "      <th></th>\n",
       "      <th>Model</th>\n",
       "      <th>Score</th>\n",
       "    </tr>\n",
       "  </thead>\n",
       "  <tbody>\n",
       "    <tr>\n",
       "      <th>2</th>\n",
       "      <td>Logistic Regression</td>\n",
       "      <td>84.48</td>\n",
       "    </tr>\n",
       "    <tr>\n",
       "      <th>3</th>\n",
       "      <td>Random Forest</td>\n",
       "      <td>84.48</td>\n",
       "    </tr>\n",
       "    <tr>\n",
       "      <th>7</th>\n",
       "      <td>Decision Tree</td>\n",
       "      <td>84.48</td>\n",
       "    </tr>\n",
       "    <tr>\n",
       "      <th>1</th>\n",
       "      <td>KNN</td>\n",
       "      <td>82.26</td>\n",
       "    </tr>\n",
       "    <tr>\n",
       "      <th>6</th>\n",
       "      <td>Stochastic Gradient Decent</td>\n",
       "      <td>79.23</td>\n",
       "    </tr>\n",
       "    <tr>\n",
       "      <th>0</th>\n",
       "      <td>Support Vector Machines</td>\n",
       "      <td>78.65</td>\n",
       "    </tr>\n",
       "    <tr>\n",
       "      <th>5</th>\n",
       "      <td>Perceptron</td>\n",
       "      <td>77.13</td>\n",
       "    </tr>\n",
       "    <tr>\n",
       "      <th>4</th>\n",
       "      <td>Naive Bayes</td>\n",
       "      <td>76.66</td>\n",
       "    </tr>\n",
       "  </tbody>\n",
       "</table>\n",
       "</div>"
      ],
      "text/plain": [
       "                        Model  Score\n",
       "2         Logistic Regression  84.48\n",
       "3               Random Forest  84.48\n",
       "7               Decision Tree  84.48\n",
       "1                         KNN  82.26\n",
       "6  Stochastic Gradient Decent  79.23\n",
       "0     Support Vector Machines  78.65\n",
       "5                  Perceptron  77.13\n",
       "4                 Naive Bayes  76.66"
      ]
     },
     "execution_count": 105,
     "metadata": {},
     "output_type": "execute_result"
    }
   ],
   "source": [
    "models = pd.DataFrame({\n",
    "    'Model': ['Support Vector Machines', 'KNN', 'Logistic Regression', \n",
    "              'Random Forest', 'Naive Bayes', 'Perceptron', \n",
    "              'Stochastic Gradient Decent', \n",
    "              'Decision Tree'],\n",
    "    'Score': [acc_svc, acc_knn, acc_log, \n",
    "              acc_random_forest, acc_gaussian, acc_perceptron, \n",
    "              acc_sgd, acc_decision_tree]})\n",
    "models.sort_values(by='Score', ascending=False)"
   ]
  },
  {
   "cell_type": "code",
   "execution_count": 124,
   "metadata": {},
   "outputs": [],
   "source": [
    "# Для сервера"
   ]
  },
  {
   "cell_type": "code",
   "execution_count": 119,
   "metadata": {},
   "outputs": [],
   "source": []
  },
  {
   "cell_type": "code",
   "execution_count": 122,
   "metadata": {},
   "outputs": [],
   "source": []
  },
  {
   "cell_type": "code",
   "execution_count": 123,
   "metadata": {},
   "outputs": [],
   "source": []
  },
  {
   "cell_type": "code",
   "execution_count": null,
   "metadata": {},
   "outputs": [],
   "source": []
  },
  {
   "cell_type": "code",
   "execution_count": null,
   "metadata": {},
   "outputs": [],
   "source": []
  }
 ],
 "metadata": {
  "kernelspec": {
   "display_name": "Python 3",
   "language": "python",
   "name": "python3"
  },
  "language_info": {
   "codemirror_mode": {
    "name": "ipython",
    "version": 3
   },
   "file_extension": ".py",
   "mimetype": "text/x-python",
   "name": "python",
   "nbconvert_exporter": "python",
   "pygments_lexer": "ipython3",
   "version": "3.7.2"
  }
 },
 "nbformat": 4,
 "nbformat_minor": 2
}
